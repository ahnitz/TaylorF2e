{
 "cells": [
  {
   "cell_type": "code",
   "execution_count": 1,
   "metadata": {},
   "outputs": [],
   "source": [
    "from pycbc.waveform import get_fd_waveform, get_td_waveform\n",
    "from pycbc.psd import aLIGOZeroDetLowPower\n",
    "\n",
    "# Notes\n",
    "# (1) Tf2E seems to use 10Hz as reference eccentricity\n",
    "# (match does not seem to change if changing f_low on tf2e, but does on eccentricfd)\n",
    "\n",
    "# (2) Tf2E does not seem to use 3.5 PN standard phasing corrections\n",
    "# (match is high if phase_order set to 6 with no eccentricity)\n",
    "\n",
    "# (3) Eccentric TD doesn't seem to match the other approximants at low eccentricity!!\n",
    "# Disregard eccentric TD in lalsimulation?????\n",
    "\n",
    "p = {'mass1':1.4, 'mass2':1.4, \n",
    "     'delta_f':1.0/128, \n",
    "     'delta_t':1.0/4096,\n",
    "     'distance':100, \n",
    "     'inclination': 0,\n",
    "     'coa_phase' : 0, \n",
    "     'f_lower':10.0,\n",
    "     'long_asc_nodes':0}"
   ]
  },
  {
   "cell_type": "code",
   "execution_count": 9,
   "metadata": {},
   "outputs": [
    {
     "name": "stdout",
     "output_type": "stream",
     "text": [
      "1e-05 0.9817746752154812\n",
      "0.02501 0.981744551648727\n",
      "0.050010000000000006 0.9811868229912416\n",
      "0.07501000000000001 0.9787837050387478\n",
      "0.10001 0.9714905782672484\n",
      "0.12501 0.9514138462447661\n",
      "0.15001000000000003 0.8973401576177206\n",
      "0.17501000000000003 0.773616918732123\n",
      "0.20001000000000002 0.5569949824124479\n",
      "0.22501000000000002 0.4761214724151426\n",
      "0.25001 0.37296632005485364\n",
      "0.27501000000000003 0.32354311620029363\n",
      "0.30001000000000005 0.2983622838883136\n",
      "0.32501 0.25735197890302114\n",
      "0.35001000000000004 0.21886870740853948\n",
      "0.37501 0.19639351345451217\n"
     ]
    }
   ],
   "source": [
    "from pycbc.filter import match\n",
    "import numpy\n",
    "\n",
    "tlen = 128 * 4096\n",
    "flen = tlen / 2 + 1\n",
    "\n",
    "psd = aLIGOZeroDetLowPower(flen, hp.delta_f, 30.0)\n",
    "ec = numpy.arange(1e-5, 0.4, .025)\n",
    "ms = []\n",
    "for e in ec:\n",
    "    p['eccentricity'] = e\n",
    "    hp, hc = get_fd_waveform(approximant=\"TaylorF2e\", **p)\n",
    "    hp2, hc2 = get_fd_waveform(approximant=\"EccentricFD\", **p)  \n",
    "    hp2.resize(flen)\n",
    "    hp.resize(flen)\n",
    "    m, i = match(hp, hp2, psd=psd, low_frequency_cutoff=30, high_frequency_cutoff=800)\n",
    "    ms.append(m)\n",
    "    \n",
    "    print e, m"
   ]
  },
  {
   "cell_type": "code",
   "execution_count": 15,
   "metadata": {},
   "outputs": [
    {
     "data": {
      "image/png": "[encoded data removed]",
      "text/plain": [
       "<Figure size 432x288 with 1 Axes>"
      ]
     },
     "metadata": {},
     "output_type": "display_data"
    }
   ],
   "source": [
    "import pylab\n",
    "pylab.plot(ec, ms)\n",
    "pylab.ylabel('Faithfulness')\n",
    "pylab.xlabel('Eccentricity (from 10 Hz)')\n",
    "pylab.show()"
   ]
  }
 ],
 "metadata": {
  "kernelspec": {
   "display_name": "Python 2",
   "language": "python",
   "name": "python2"
  },
  "language_info": {
   "codemirror_mode": {
    "name": "ipython",
    "version": 2
   },
   "file_extension": ".py",
   "mimetype": "text/x-python",
   "name": "python",
   "nbconvert_exporter": "python",
   "pygments_lexer": "ipython2",
   "version": "2.7.11"
  }
 },
 "nbformat": 4,
 "nbformat_minor": 2
}
